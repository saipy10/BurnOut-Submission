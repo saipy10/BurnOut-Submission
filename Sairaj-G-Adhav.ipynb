{
 "cells": [
  {
   "cell_type": "code",
   "execution_count": 1,
   "id": "0d6b37c1",
   "metadata": {
    "_cell_guid": "b1076dfc-b9ad-4769-8c92-a6c4dae69d19",
    "_uuid": "8f2839f25d086af736a60e9eeb907d3b93b6e0e5",
    "execution": {
     "iopub.execute_input": "2025-06-14T12:25:37.252936Z",
     "iopub.status.busy": "2025-06-14T12:25:37.252659Z",
     "iopub.status.idle": "2025-06-14T12:25:40.577931Z",
     "shell.execute_reply": "2025-06-14T12:25:40.577336Z"
    },
    "papermill": {
     "duration": 3.33117,
     "end_time": "2025-06-14T12:25:40.579413",
     "exception": false,
     "start_time": "2025-06-14T12:25:37.248243",
     "status": "completed"
    },
    "tags": []
   },
   "outputs": [],
   "source": [
    "import numpy as np\n",
    "import pandas as pd\n",
    "import seaborn as sns\n",
    "import matplotlib.pyplot as plt\n",
    "# from scipy import stats\n",
    "from sklearn.metrics import mean_squared_error\n",
    "import warnings\n",
    "warnings.filterwarnings(\"ignore\") # Ignores all warnings"
   ]
  },
  {
   "cell_type": "code",
   "execution_count": 2,
   "id": "89f9e4ec",
   "metadata": {
    "execution": {
     "iopub.execute_input": "2025-06-14T12:25:40.586324Z",
     "iopub.status.busy": "2025-06-14T12:25:40.585847Z",
     "iopub.status.idle": "2025-06-14T12:25:59.166737Z",
     "shell.execute_reply": "2025-06-14T12:25:59.166152Z"
    },
    "papermill": {
     "duration": 18.585817,
     "end_time": "2025-06-14T12:25:59.168259",
     "exception": false,
     "start_time": "2025-06-14T12:25:40.582442",
     "status": "completed"
    },
    "tags": []
   },
   "outputs": [],
   "source": [
    "train = pd.read_csv(\"/kaggle/input/burnout-datathon-ieeecsmuj/train.csv\")\n",
    "test = pd.read_csv(\"/kaggle/input/burnout-datathon-ieeecsmuj/test.csv\")\n",
    "val = pd.read_csv(\"/kaggle/input/burnout-datathon-ieeecsmuj/val.csv\")"
   ]
  },
  {
   "cell_type": "code",
   "execution_count": null,
   "id": "58833e96",
   "metadata": {
    "execution": {
     "iopub.execute_input": "2025-06-14T12:25:59.174782Z",
     "iopub.status.busy": "2025-06-14T12:25:59.174519Z",
     "iopub.status.idle": "2025-06-14T12:25:59.177676Z",
     "shell.execute_reply": "2025-06-14T12:25:59.177077Z"
    },
    "papermill": {
     "duration": 0.007462,
     "end_time": "2025-06-14T12:25:59.178712",
     "exception": false,
     "start_time": "2025-06-14T12:25:59.171250",
     "status": "completed"
    },
    "tags": []
   },
   "outputs": [],
   "source": [
    "# train.info()\n",
    "# train.describe()"
   ]
  },
  {
   "cell_type": "code",
   "execution_count": 5,
   "id": "4d41fa11",
   "metadata": {
    "execution": {
     "iopub.execute_input": "2025-06-14T12:25:59.194727Z",
     "iopub.status.busy": "2025-06-14T12:25:59.194490Z",
     "iopub.status.idle": "2025-06-14T12:26:03.219846Z",
     "shell.execute_reply": "2025-06-14T12:26:03.219198Z"
    },
    "papermill": {
     "duration": 4.030104,
     "end_time": "2025-06-14T12:26:03.221520",
     "exception": false,
     "start_time": "2025-06-14T12:25:59.191416",
     "status": "completed"
    },
    "tags": []
   },
   "outputs": [],
   "source": [
    "from sklearn.preprocessing import LabelEncoder\n",
    "\n",
    "encoders = []\n",
    "for col in train.columns:\n",
    "    if train[col].dtypes == \"object\":\n",
    "        encoders.append(LabelEncoder())\n",
    "\n",
    "i = 0\n",
    "for col in train.columns:\n",
    "    if train[col].dtypes == \"object\":\n",
    "        train[col] = encoders[i].fit_transform(train[col])\n",
    "        i += 1"
   ]
  },
  {
   "cell_type": "code",
   "execution_count": 6,
   "id": "2eee8c00",
   "metadata": {
    "execution": {
     "iopub.execute_input": "2025-06-14T12:26:03.228681Z",
     "iopub.status.busy": "2025-06-14T12:26:03.228388Z",
     "iopub.status.idle": "2025-06-14T12:26:04.562923Z",
     "shell.execute_reply": "2025-06-14T12:26:04.562296Z"
    },
    "papermill": {
     "duration": 1.339718,
     "end_time": "2025-06-14T12:26:04.564374",
     "exception": false,
     "start_time": "2025-06-14T12:26:03.224656",
     "status": "completed"
    },
    "tags": []
   },
   "outputs": [],
   "source": [
    "from sklearn.model_selection import train_test_split\n",
    "\n",
    "X = train.drop(columns = [\"Lap_Time_Seconds\", \"Unique ID\", \"Penalty\"])\n",
    "y = train[\"Lap_Time_Seconds\"]\n",
    "\n",
    "X_train, X_test, y_train, y_test = train_test_split(X, y, random_state = 2, test_size=0.01)"
   ]
  },
  {
   "cell_type": "code",
   "execution_count": 7,
   "id": "81afa42b",
   "metadata": {
    "execution": {
     "iopub.execute_input": "2025-06-14T12:26:04.571565Z",
     "iopub.status.busy": "2025-06-14T12:26:04.571307Z",
     "iopub.status.idle": "2025-06-14T12:26:04.574571Z",
     "shell.execute_reply": "2025-06-14T12:26:04.574073Z"
    },
    "papermill": {
     "duration": 0.007971,
     "end_time": "2025-06-14T12:26:04.575645",
     "exception": false,
     "start_time": "2025-06-14T12:26:04.567674",
     "status": "completed"
    },
    "tags": []
   },
   "outputs": [],
   "source": [
    "# from catboost import CatBoostRegressor\n",
    "\n",
    "\n",
    "# # Improved CatBoostRegressor with tuned settings\n",
    "# cm = CatBoostRegressor(\n",
    "#     task_type=\"GPU\",\n",
    "#     devices='0',                   # specify GPU device if needed\n",
    "#     iterations=50000,               # more boosting rounds\n",
    "#     learning_rate=0.03,            # smaller learning rate for stability\n",
    "#     depth=8,                       # deeper trees for more complexity\n",
    "#     l2_leaf_reg=3,                 # regularization\n",
    "#     random_state=2,\n",
    "#     verbose=2000                     # less verbose than 10000\n",
    "# )\n",
    "\n",
    "# cm.fit(X_train, y_train)\n",
    "\n",
    "# # Predict + compute RMSE\n",
    "# preds = cm.predict(X_test)\n",
    "# crmse = np.sqrt(mean_squared_error(y_test, preds))\n",
    "# print(crmse)"
   ]
  },
  {
   "cell_type": "markdown",
   "id": "8bca0d6e",
   "metadata": {
    "papermill": {
     "duration": 0.00235,
     "end_time": "2025-06-14T12:26:04.580668",
     "exception": false,
     "start_time": "2025-06-14T12:26:04.578318",
     "status": "completed"
    },
    "tags": []
   },
   "source": [
    "0.5713768135795115"
   ]
  },
  {
   "cell_type": "code",
   "execution_count": 8,
   "id": "f5df56d4",
   "metadata": {
    "execution": {
     "iopub.execute_input": "2025-06-14T12:26:04.586715Z",
     "iopub.status.busy": "2025-06-14T12:26:04.586463Z",
     "iopub.status.idle": "2025-06-14T13:04:46.326084Z",
     "shell.execute_reply": "2025-06-14T13:04:46.325236Z"
    },
    "papermill": {
     "duration": 2321.748647,
     "end_time": "2025-06-14T13:04:46.331922",
     "exception": false,
     "start_time": "2025-06-14T12:26:04.583275",
     "status": "completed"
    },
    "tags": []
   },
   "outputs": [
    {
     "name": "stderr",
     "output_type": "stream",
     "text": [
      "1 warning generated.\n",
      "1 warning generated.\n",
      "1 warning generated.\n",
      "1 warning generated.\n",
      "1 warning generated.\n",
      "1 warning generated.\n",
      "1 warning generated.\n",
      "1 warning generated.\n",
      "1 warning generated.\n",
      "1 warning generated.\n",
      "1 warning generated.\n",
      "1 warning generated.\n",
      "1 warning generated.\n",
      "1 warning generated.\n",
      "1 warning generated.\n",
      "1 warning generated.\n",
      "1 warning generated.\n",
      "1 warning generated.\n",
      "1 warning generated.\n",
      "1 warning generated.\n",
      "1 warning generated.\n",
      "1 warning generated.\n",
      "1 warning generated.\n",
      "1 warning generated.\n",
      "1 warning generated.\n",
      "1 warning generated.\n",
      "1 warning generated.\n",
      "1 warning generated.\n",
      "1 warning generated.\n",
      "1 warning generated.\n",
      "1 warning generated.\n",
      "1 warning generated.\n",
      "1 warning generated.\n"
     ]
    },
    {
     "name": "stdout",
     "output_type": "stream",
     "text": [
      "0.020106337925348893\n"
     ]
    }
   ],
   "source": [
    "from lightgbm import LGBMRegressor\n",
    "\n",
    "# Create LGBM model with GPU and tuned params\n",
    "lm = LGBMRegressor(\n",
    "    device='gpu',             # Enable GPU\n",
    "    boosting_type='gbdt',     # GPU works with gbdt, dart\n",
    "    random_state=2,\n",
    "    verbose=-1,\n",
    "    n_estimators=95000,        # More trees (you can tune this)\n",
    "    learning_rate=0.05,       # Smaller learning rate\n",
    "    num_leaves=31,            # Default, can tune\n",
    "    max_depth=-1              # No limit, can tune\n",
    ")\n",
    "\n",
    "# Train model\n",
    "lm.fit(X_train, y_train)\n",
    "\n",
    "# Predict + compute RMSE\n",
    "preds = lm.predict(X_test)\n",
    "lrmse = np.sqrt(mean_squared_error(y_test, preds))\n",
    "\n",
    "print(lrmse)"
   ]
  },
  {
   "cell_type": "markdown",
   "id": "32c05416",
   "metadata": {
    "papermill": {
     "duration": 0.003179,
     "end_time": "2025-06-14T13:04:46.338423",
     "exception": false,
     "start_time": "2025-06-14T13:04:46.335244",
     "status": "completed"
    },
    "tags": []
   },
   "source": [
    "0.07623064485363776"
   ]
  },
  {
   "cell_type": "code",
   "execution_count": 9,
   "id": "d1f7075c",
   "metadata": {
    "execution": {
     "iopub.execute_input": "2025-06-14T13:04:46.346437Z",
     "iopub.status.busy": "2025-06-14T13:04:46.345811Z",
     "iopub.status.idle": "2025-06-14T13:32:03.102510Z",
     "shell.execute_reply": "2025-06-14T13:32:03.101764Z"
    },
    "papermill": {
     "duration": 1636.765836,
     "end_time": "2025-06-14T13:32:03.107344",
     "exception": false,
     "start_time": "2025-06-14T13:04:46.341508",
     "status": "completed"
    },
    "tags": []
   },
   "outputs": [
    {
     "name": "stdout",
     "output_type": "stream",
     "text": [
      "Eval\n",
      "0.291636417955243\n"
     ]
    }
   ],
   "source": [
    "i = 0\n",
    "for col in val.columns:\n",
    "    if val[col].dtypes == \"object\":\n",
    "        val[col] = encoders[i].fit_transform(val[col])\n",
    "        i += 1\n",
    "\n",
    "X1 = val.drop(columns=[\"Lap_Time_Seconds\", \"Unique ID\", \"Penalty\"])\n",
    "y1 = val[\"Lap_Time_Seconds\"]\n",
    "print(\"Eval\")\n",
    "# print(np.sqrt(mean_squared_error(cm.predict(X1), y1)))\n",
    "print(np.sqrt(mean_squared_error(lm.predict(X1), y1)))"
   ]
  },
  {
   "cell_type": "markdown",
   "id": "c6ac40ad",
   "metadata": {
    "papermill": {
     "duration": 0.003034,
     "end_time": "2025-06-14T13:32:03.113762",
     "exception": false,
     "start_time": "2025-06-14T13:32:03.110728",
     "status": "completed"
    },
    "tags": []
   },
   "source": [
    "Eval\n",
    "0.6223124288999167\n",
    "0.30874695007994174"
   ]
  },
  {
   "cell_type": "code",
   "execution_count": 10,
   "id": "f92fd558",
   "metadata": {
    "execution": {
     "iopub.execute_input": "2025-06-14T13:32:03.121766Z",
     "iopub.status.busy": "2025-06-14T13:32:03.121563Z",
     "iopub.status.idle": "2025-06-14T13:32:03.143711Z",
     "shell.execute_reply": "2025-06-14T13:32:03.143083Z"
    },
    "papermill": {
     "duration": 0.027881,
     "end_time": "2025-06-14T13:32:03.144815",
     "exception": false,
     "start_time": "2025-06-14T13:32:03.116934",
     "status": "completed"
    },
    "tags": []
   },
   "outputs": [
    {
     "data": {
      "text/html": [
       "<div>\n",
       "<style scoped>\n",
       "    .dataframe tbody tr th:only-of-type {\n",
       "        vertical-align: middle;\n",
       "    }\n",
       "\n",
       "    .dataframe tbody tr th {\n",
       "        vertical-align: top;\n",
       "    }\n",
       "\n",
       "    .dataframe thead th {\n",
       "        text-align: right;\n",
       "    }\n",
       "</style>\n",
       "<table border=\"1\" class=\"dataframe\">\n",
       "  <thead>\n",
       "    <tr style=\"text-align: right;\">\n",
       "      <th></th>\n",
       "      <th>Unique ID</th>\n",
       "      <th>Rider_ID</th>\n",
       "      <th>category_x</th>\n",
       "      <th>Circuit_Length_km</th>\n",
       "      <th>Laps</th>\n",
       "      <th>Grid_Position</th>\n",
       "      <th>Avg_Speed_kmh</th>\n",
       "      <th>Track_Condition</th>\n",
       "      <th>Humidity_%</th>\n",
       "      <th>Tire_Compound_Front</th>\n",
       "      <th>...</th>\n",
       "      <th>air</th>\n",
       "      <th>ground</th>\n",
       "      <th>starts</th>\n",
       "      <th>finishes</th>\n",
       "      <th>with_points</th>\n",
       "      <th>podiums</th>\n",
       "      <th>wins</th>\n",
       "      <th>min_year</th>\n",
       "      <th>max_year</th>\n",
       "      <th>years_active</th>\n",
       "    </tr>\n",
       "  </thead>\n",
       "  <tbody>\n",
       "    <tr>\n",
       "      <th>0</th>\n",
       "      <td>288307</td>\n",
       "      <td>6533</td>\n",
       "      <td>MotoGP</td>\n",
       "      <td>5.316</td>\n",
       "      <td>19</td>\n",
       "      <td>1</td>\n",
       "      <td>284.38</td>\n",
       "      <td>Dry</td>\n",
       "      <td>44</td>\n",
       "      <td>Hard</td>\n",
       "      <td>...</td>\n",
       "      <td>16</td>\n",
       "      <td>19</td>\n",
       "      <td>92</td>\n",
       "      <td>86</td>\n",
       "      <td>47</td>\n",
       "      <td>2</td>\n",
       "      <td>0</td>\n",
       "      <td>1981</td>\n",
       "      <td>1993</td>\n",
       "      <td>13</td>\n",
       "    </tr>\n",
       "    <tr>\n",
       "      <th>1</th>\n",
       "      <td>704288</td>\n",
       "      <td>4800</td>\n",
       "      <td>Moto2</td>\n",
       "      <td>3.861</td>\n",
       "      <td>19</td>\n",
       "      <td>2</td>\n",
       "      <td>328.98</td>\n",
       "      <td>Dry</td>\n",
       "      <td>43</td>\n",
       "      <td>Hard</td>\n",
       "      <td>...</td>\n",
       "      <td>28</td>\n",
       "      <td>47</td>\n",
       "      <td>406</td>\n",
       "      <td>373</td>\n",
       "      <td>365</td>\n",
       "      <td>178</td>\n",
       "      <td>111</td>\n",
       "      <td>1996</td>\n",
       "      <td>2021</td>\n",
       "      <td>26</td>\n",
       "    </tr>\n",
       "    <tr>\n",
       "      <th>2</th>\n",
       "      <td>951491</td>\n",
       "      <td>7907</td>\n",
       "      <td>Moto3</td>\n",
       "      <td>3.954</td>\n",
       "      <td>18</td>\n",
       "      <td>21</td>\n",
       "      <td>165.56</td>\n",
       "      <td>Dry</td>\n",
       "      <td>77</td>\n",
       "      <td>Soft</td>\n",
       "      <td>...</td>\n",
       "      <td>27</td>\n",
       "      <td>46</td>\n",
       "      <td>138</td>\n",
       "      <td>134</td>\n",
       "      <td>120</td>\n",
       "      <td>13</td>\n",
       "      <td>7</td>\n",
       "      <td>1993</td>\n",
       "      <td>2007</td>\n",
       "      <td>15</td>\n",
       "    </tr>\n",
       "    <tr>\n",
       "      <th>3</th>\n",
       "      <td>2591721</td>\n",
       "      <td>4844</td>\n",
       "      <td>Moto3</td>\n",
       "      <td>4.074</td>\n",
       "      <td>21</td>\n",
       "      <td>21</td>\n",
       "      <td>258.46</td>\n",
       "      <td>Dry</td>\n",
       "      <td>74</td>\n",
       "      <td>Medium</td>\n",
       "      <td>...</td>\n",
       "      <td>21</td>\n",
       "      <td>29</td>\n",
       "      <td>83</td>\n",
       "      <td>70</td>\n",
       "      <td>37</td>\n",
       "      <td>0</td>\n",
       "      <td>0</td>\n",
       "      <td>1998</td>\n",
       "      <td>2007</td>\n",
       "      <td>10</td>\n",
       "    </tr>\n",
       "    <tr>\n",
       "      <th>4</th>\n",
       "      <td>1202653</td>\n",
       "      <td>4802</td>\n",
       "      <td>Moto2</td>\n",
       "      <td>4.096</td>\n",
       "      <td>25</td>\n",
       "      <td>21</td>\n",
       "      <td>319.60</td>\n",
       "      <td>Dry</td>\n",
       "      <td>84</td>\n",
       "      <td>Hard</td>\n",
       "      <td>...</td>\n",
       "      <td>27</td>\n",
       "      <td>46</td>\n",
       "      <td>134</td>\n",
       "      <td>115</td>\n",
       "      <td>105</td>\n",
       "      <td>5</td>\n",
       "      <td>2</td>\n",
       "      <td>1998</td>\n",
       "      <td>2010</td>\n",
       "      <td>13</td>\n",
       "    </tr>\n",
       "  </tbody>\n",
       "</table>\n",
       "<p>5 rows × 44 columns</p>\n",
       "</div>"
      ],
      "text/plain": [
       "   Unique ID  Rider_ID category_x  Circuit_Length_km  Laps  Grid_Position  \\\n",
       "0     288307      6533     MotoGP              5.316    19              1   \n",
       "1     704288      4800      Moto2              3.861    19              2   \n",
       "2     951491      7907      Moto3              3.954    18             21   \n",
       "3    2591721      4844      Moto3              4.074    21             21   \n",
       "4    1202653      4802      Moto2              4.096    25             21   \n",
       "\n",
       "   Avg_Speed_kmh Track_Condition  Humidity_% Tire_Compound_Front  ... air  \\\n",
       "0         284.38             Dry          44                Hard  ...  16   \n",
       "1         328.98             Dry          43                Hard  ...  28   \n",
       "2         165.56             Dry          77                Soft  ...  27   \n",
       "3         258.46             Dry          74              Medium  ...  21   \n",
       "4         319.60             Dry          84                Hard  ...  27   \n",
       "\n",
       "  ground  starts  finishes with_points  podiums  wins  min_year  max_year  \\\n",
       "0     19      92        86          47        2     0      1981      1993   \n",
       "1     47     406       373         365      178   111      1996      2021   \n",
       "2     46     138       134         120       13     7      1993      2007   \n",
       "3     29      83        70          37        0     0      1998      2007   \n",
       "4     46     134       115         105        5     2      1998      2010   \n",
       "\n",
       "   years_active  \n",
       "0            13  \n",
       "1            26  \n",
       "2            15  \n",
       "3            10  \n",
       "4            13  \n",
       "\n",
       "[5 rows x 44 columns]"
      ]
     },
     "execution_count": 10,
     "metadata": {},
     "output_type": "execute_result"
    }
   ],
   "source": [
    "test.head()"
   ]
  },
  {
   "cell_type": "code",
   "execution_count": 11,
   "id": "f5a8e72b",
   "metadata": {
    "execution": {
     "iopub.execute_input": "2025-06-14T13:32:03.153007Z",
     "iopub.status.busy": "2025-06-14T13:32:03.152475Z",
     "iopub.status.idle": "2025-06-14T14:26:17.364992Z",
     "shell.execute_reply": "2025-06-14T14:26:17.364391Z"
    },
    "papermill": {
     "duration": 3254.221867,
     "end_time": "2025-06-14T14:26:17.370380",
     "exception": false,
     "start_time": "2025-06-14T13:32:03.148513",
     "status": "completed"
    },
    "tags": []
   },
   "outputs": [
    {
     "name": "stdout",
     "output_type": "stream",
     "text": [
      "Submission file saved as submission.csv\n"
     ]
    },
    {
     "data": {
      "text/html": [
       "<div>\n",
       "<style scoped>\n",
       "    .dataframe tbody tr th:only-of-type {\n",
       "        vertical-align: middle;\n",
       "    }\n",
       "\n",
       "    .dataframe tbody tr th {\n",
       "        vertical-align: top;\n",
       "    }\n",
       "\n",
       "    .dataframe thead th {\n",
       "        text-align: right;\n",
       "    }\n",
       "</style>\n",
       "<table border=\"1\" class=\"dataframe\">\n",
       "  <thead>\n",
       "    <tr style=\"text-align: right;\">\n",
       "      <th></th>\n",
       "      <th>Unique ID</th>\n",
       "      <th>Lap_Time_Seconds</th>\n",
       "    </tr>\n",
       "  </thead>\n",
       "  <tbody>\n",
       "    <tr>\n",
       "      <th>0</th>\n",
       "      <td>288307</td>\n",
       "      <td>89.946256</td>\n",
       "    </tr>\n",
       "    <tr>\n",
       "      <th>1</th>\n",
       "      <td>704288</td>\n",
       "      <td>104.076768</td>\n",
       "    </tr>\n",
       "    <tr>\n",
       "      <th>2</th>\n",
       "      <td>951491</td>\n",
       "      <td>86.296527</td>\n",
       "    </tr>\n",
       "    <tr>\n",
       "      <th>3</th>\n",
       "      <td>2591721</td>\n",
       "      <td>109.788692</td>\n",
       "    </tr>\n",
       "    <tr>\n",
       "      <th>4</th>\n",
       "      <td>1202653</td>\n",
       "      <td>99.332312</td>\n",
       "    </tr>\n",
       "  </tbody>\n",
       "</table>\n",
       "</div>"
      ],
      "text/plain": [
       "   Unique ID  Lap_Time_Seconds\n",
       "0     288307         89.946256\n",
       "1     704288        104.076768\n",
       "2     951491         86.296527\n",
       "3    2591721        109.788692\n",
       "4    1202653         99.332312"
      ]
     },
     "execution_count": 11,
     "metadata": {},
     "output_type": "execute_result"
    }
   ],
   "source": [
    "i = 0\n",
    "for col in test.columns:\n",
    "    if test[col].dtypes == \"object\":\n",
    "        test[col] = encoders[i].fit_transform(test[col])\n",
    "        i += 1\n",
    "\n",
    "# Drop unwanted columns\n",
    "X_submit = test.drop(columns=[\"Unique ID\", \"Penalty\"])\n",
    "\n",
    "# Predict using your trained LightGBM model\n",
    "preds = lm.predict(X_submit)\n",
    "\n",
    "# Create submission DataFrame\n",
    "submission = pd.DataFrame({\n",
    "    \"Unique ID\": test[\"Unique ID\"],\n",
    "    \"Lap_Time_Seconds\": preds\n",
    "})\n",
    "\n",
    "# Save to CSV\n",
    "submission.to_csv(\"submission.csv\", index=False)\n",
    "\n",
    "print(\"Submission file saved as submission.csv\")\n",
    "submission.head()"
   ]
  },
  {
   "cell_type": "code",
   "execution_count": 12,
   "id": "33409d06",
   "metadata": {
    "execution": {
     "iopub.execute_input": "2025-06-14T14:26:17.378704Z",
     "iopub.status.busy": "2025-06-14T14:26:17.378499Z",
     "iopub.status.idle": "2025-06-14T14:26:17.536624Z",
     "shell.execute_reply": "2025-06-14T14:26:17.535963Z"
    },
    "papermill": {
     "duration": 0.163616,
     "end_time": "2025-06-14T14:26:17.537792",
     "exception": false,
     "start_time": "2025-06-14T14:26:17.374176",
     "status": "completed"
    },
    "tags": []
   },
   "outputs": [
    {
     "data": {
      "text/html": [
       "<div>\n",
       "<style scoped>\n",
       "    .dataframe tbody tr th:only-of-type {\n",
       "        vertical-align: middle;\n",
       "    }\n",
       "\n",
       "    .dataframe tbody tr th {\n",
       "        vertical-align: top;\n",
       "    }\n",
       "\n",
       "    .dataframe thead th {\n",
       "        text-align: right;\n",
       "    }\n",
       "</style>\n",
       "<table border=\"1\" class=\"dataframe\">\n",
       "  <thead>\n",
       "    <tr style=\"text-align: right;\">\n",
       "      <th></th>\n",
       "      <th>Unique ID</th>\n",
       "      <th>Lap_Time_Seconds</th>\n",
       "    </tr>\n",
       "  </thead>\n",
       "  <tbody>\n",
       "    <tr>\n",
       "      <th>0</th>\n",
       "      <td>288307</td>\n",
       "      <td>89.946256</td>\n",
       "    </tr>\n",
       "    <tr>\n",
       "      <th>1</th>\n",
       "      <td>704288</td>\n",
       "      <td>104.076768</td>\n",
       "    </tr>\n",
       "    <tr>\n",
       "      <th>2</th>\n",
       "      <td>951491</td>\n",
       "      <td>86.296527</td>\n",
       "    </tr>\n",
       "    <tr>\n",
       "      <th>3</th>\n",
       "      <td>2591721</td>\n",
       "      <td>109.788692</td>\n",
       "    </tr>\n",
       "    <tr>\n",
       "      <th>4</th>\n",
       "      <td>1202653</td>\n",
       "      <td>99.332312</td>\n",
       "    </tr>\n",
       "  </tbody>\n",
       "</table>\n",
       "</div>"
      ],
      "text/plain": [
       "   Unique ID  Lap_Time_Seconds\n",
       "0     288307         89.946256\n",
       "1     704288        104.076768\n",
       "2     951491         86.296527\n",
       "3    2591721        109.788692\n",
       "4    1202653         99.332312"
      ]
     },
     "execution_count": 12,
     "metadata": {},
     "output_type": "execute_result"
    }
   ],
   "source": [
    "sub = pd.read_csv(\"/kaggle/working/submission.csv\")\n",
    "sub.head()"
   ]
  },
  {
   "cell_type": "code",
   "execution_count": 13,
   "id": "f80b0156",
   "metadata": {
    "execution": {
     "iopub.execute_input": "2025-06-14T14:26:17.546805Z",
     "iopub.status.busy": "2025-06-14T14:26:17.546600Z",
     "iopub.status.idle": "2025-06-14T14:26:18.548336Z",
     "shell.execute_reply": "2025-06-14T14:26:18.547583Z"
    },
    "papermill": {
     "duration": 1.007458,
     "end_time": "2025-06-14T14:26:18.549578",
     "exception": false,
     "start_time": "2025-06-14T14:26:17.542120",
     "status": "completed"
    },
    "tags": []
   },
   "outputs": [
    {
     "data": {
      "text/plain": [
       "<Axes: xlabel='Lap_Time_Seconds', ylabel='Count'>"
      ]
     },
     "execution_count": 13,
     "metadata": {},
     "output_type": "execute_result"
    },
    {
     "data": {
      "image/png": "[encoded data removed]",
      "text/plain": [
       "<Figure size 640x480 with 1 Axes>"
      ]
     },
     "metadata": {},
     "output_type": "display_data"
    }
   ],
   "source": [
    "sns.histplot(x = \"Lap_Time_Seconds\", data = train)"
   ]
  },
  {
   "cell_type": "code",
   "execution_count": 14,
   "id": "c5d13700",
   "metadata": {
    "execution": {
     "iopub.execute_input": "2025-06-14T14:26:18.559356Z",
     "iopub.status.busy": "2025-06-14T14:26:18.559118Z",
     "iopub.status.idle": "2025-06-14T14:26:18.946714Z",
     "shell.execute_reply": "2025-06-14T14:26:18.945775Z"
    },
    "papermill": {
     "duration": 0.393567,
     "end_time": "2025-06-14T14:26:18.947766",
     "exception": false,
     "start_time": "2025-06-14T14:26:18.554199",
     "status": "completed"
    },
    "tags": []
   },
   "outputs": [
    {
     "data": {
      "text/plain": [
       "<Axes: xlabel='Lap_Time_Seconds', ylabel='Count'>"
      ]
     },
     "execution_count": 14,
     "metadata": {},
     "output_type": "execute_result"
    },
    {
     "data": {
      "image/png": "[encoded data removed]",
      "text/plain": [
       "<Figure size 640x480 with 1 Axes>"
      ]
     },
     "metadata": {},
     "output_type": "display_data"
    }
   ],
   "source": [
    "sns.histplot(x = \"Lap_Time_Seconds\", data = sub)"
   ]
  },
  {
   "cell_type": "code",
   "execution_count": null,
   "id": "9cea1f52",
   "metadata": {
    "papermill": {
     "duration": 0.004435,
     "end_time": "2025-06-14T14:26:18.957185",
     "exception": false,
     "start_time": "2025-06-14T14:26:18.952750",
     "status": "completed"
    },
    "tags": []
   },
   "outputs": [],
   "source": []
  }
 ],
 "metadata": {
  "kaggle": {
   "accelerator": "gpu",
   "dataSources": [
    {
     "databundleVersionId": 12651513,
     "sourceId": 104857,
     "sourceType": "competition"
    }
   ],
   "dockerImageVersionId": 31040,
   "isGpuEnabled": true,
   "isInternetEnabled": true,
   "language": "python",
   "sourceType": "notebook"
  },
  "kernelspec": {
   "display_name": "Python 3",
   "language": "python",
   "name": "python3"
  },
  "language_info": {
   "codemirror_mode": {
    "name": "ipython",
    "version": 3
   },
   "file_extension": ".py",
   "mimetype": "text/x-python",
   "name": "python",
   "nbconvert_exporter": "python",
   "pygments_lexer": "ipython3",
   "version": "3.11.11"
  },
  "papermill": {
   "default_parameters": {},
   "duration": 7246.887538,
   "end_time": "2025-06-14T14:26:19.886364",
   "environment_variables": {},
   "exception": null,
   "input_path": "__notebook__.ipynb",
   "output_path": "__notebook__.ipynb",
   "parameters": {},
   "start_time": "2025-06-14T12:25:32.998826",
   "version": "2.6.0"
  }
 },
 "nbformat": 4,
 "nbformat_minor": 5
}
